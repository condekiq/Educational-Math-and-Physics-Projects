{
 "cells": [
  {
   "cell_type": "code",
   "execution_count": null,
   "metadata": {},
   "outputs": [],
   "source": [
    "import numpy as np\n",
    "import matplotlib.pyplot as plt\n",
    "from matplotlib.animation import PillowWriter\n",
    "from scipy.integrate import solve_ivp\n",
    "\n",
    "#%matplotlib ipympl"
   ]
  },
  {
   "cell_type": "code",
   "execution_count": null,
   "metadata": {},
   "outputs": [],
   "source": [
    "M = [1, 1, 1] # particle masses (this is actually sqrt(G)*M, but of course we are doing G = 1 here)\n",
    "#----------\n",
    "\n",
    "N = len(M) # number of particles in the system\n",
    "def newtonian_dynamic_2D(t, η):\n",
    "    # η = [X[0], Y[0], Vx[0], Vy[0], ..., X[N], Y[N], Vx[N], Vy[N]]\n",
    "    dηdt = np.zeros(4*N, dtype=float)\n",
    "    for i in range(0, N):\n",
    "        dηdt[4*i+0] = η[4*i+2]\n",
    "        dηdt[4*i+1] = η[4*i+3]\n",
    "        for j in range(0, N):\n",
    "            if i!=j:\n",
    "                rij = np.sqrt(np.power(η[4*j]-η[4*i], 2) + np.power(η[4*j+1]-η[4*i+1], 2))\n",
    "                dηdt[4*i+2] += M[j]*(η[4*j+0]-η[4*i+0])/np.power(rij, 3)\n",
    "                dηdt[4*i+3] += M[j]*(η[4*j+1]-η[4*i+1])/np.power(rij, 3)\n",
    "    return dηdt"
   ]
  },
  {
   "cell_type": "code",
   "execution_count": null,
   "metadata": {},
   "outputs": [],
   "source": [
    "η0 = [] # Condições iniciais\n",
    "for i in range(0, 4*N):\n",
    "    η0.append(np.random.uniform(-1,1))\n",
    "\n",
    "t_init = 0 # Tempo inicial da simulacao em unidades de sei la, bananas\n",
    "t_final = 10 # Tempo final da simulacao em unidades de sei la, bananas\n",
    "t_len = 1000 # Time step de um ponto ao outro\n",
    "#----------\n",
    "\n",
    "t_vec = np.linspace(t_init, t_final, t_len)\n",
    "sol = solve_ivp(newtonian_dynamic_2D, [t_init, t_final], η0, method='RK45', t_eval=t_vec, rtol=1e-8)"
   ]
  },
  {
   "cell_type": "code",
   "execution_count": null,
   "metadata": {},
   "outputs": [],
   "source": [
    "X, Y = [], []\n",
    "for i in range(0, N):\n",
    "    X.append(sol.y[4*i+0])\n",
    "    Y.append(sol.y[4*i+1])\n",
    "X_min, X_max = np.min(np.array(X).flatten()), np.max(np.array(X).flatten())\n",
    "Y_min, Y_max = np.min(np.array(Y).flatten()), np.max(np.array(Y).flatten())"
   ]
  },
  {
   "cell_type": "code",
   "execution_count": null,
   "metadata": {},
   "outputs": [],
   "source": [
    "fig = plt.figure()\n",
    "\n",
    "canvas = []\n",
    "for i in range(0, N):\n",
    "    canvas.append(plt.plot([], [])[0])\n",
    "\n",
    "lim_tol = 0.1\n",
    "plt.xlim(X_min - lim_tol, X_max + lim_tol)\n",
    "plt.ylim(Y_min - lim_tol, Y_max + lim_tol)\n",
    "\n",
    "metadata = dict(title='Many_Bodies_Newtonian_Gravity_2D', artist='condekiq')\n",
    "writer = PillowWriter(fps=30, metadata=metadata)\n",
    "\n",
    "with writer.saving(fig, \"Many_Bodies_Newtonian_Gravity_2D.gif\", 100):\n",
    "    for i in np.arange(t_len):\n",
    "        for j in range(0, N):\n",
    "            canvas[j].set_data(X[j][:i], Y[j][:i])\n",
    "\n",
    "        writer.grab_frame()"
   ]
  },
  {
   "cell_type": "code",
   "execution_count": null,
   "metadata": {},
   "outputs": [],
   "source": []
  },
  {
   "cell_type": "code",
   "execution_count": null,
   "metadata": {},
   "outputs": [],
   "source": []
  },
  {
   "cell_type": "code",
   "execution_count": null,
   "metadata": {},
   "outputs": [],
   "source": []
  },
  {
   "cell_type": "code",
   "execution_count": null,
   "metadata": {},
   "outputs": [],
   "source": []
  },
  {
   "cell_type": "code",
   "execution_count": null,
   "metadata": {},
   "outputs": [],
   "source": []
  }
 ],
 "metadata": {
  "@webio": {
   "lastCommId": null,
   "lastKernelId": null
  },
  "kernelspec": {
   "display_name": "Python 3 (ipykernel)",
   "language": "python",
   "name": "python3"
  },
  "language_info": {
   "codemirror_mode": {
    "name": "ipython",
    "version": 3
   },
   "file_extension": ".py",
   "mimetype": "text/x-python",
   "name": "python",
   "nbconvert_exporter": "python",
   "pygments_lexer": "ipython3",
   "version": "3.12.1"
  }
 },
 "nbformat": 4,
 "nbformat_minor": 4
}
