{
 "cells": [
  {
   "cell_type": "code",
   "execution_count": 1,
   "metadata": {},
   "outputs": [],
   "source": [
    "import numpy as np\n",
    "import matplotlib.pyplot as plt\n",
    "import matplotlib.animation as animation\n",
    "from scipy.integrate import solve_ivp\n",
    "from scipy.interpolate import interp1d\n",
    "\n",
    "#%matplotlib ipympl"
   ]
  },
  {
   "cell_type": "code",
   "execution_count": 2,
   "metadata": {},
   "outputs": [],
   "source": [
    "M = [1, 1, 1] # particle masses (this is actually sqrt(G)*M, but of course we are doing G = 1 here)\n",
    "#----------\n",
    "\n",
    "N = len(M) # number of particles in the system\n",
    "def newtonian_dynamic_2D(t, η):\n",
    "    # η = [X[0], Y[0], Vx[0], Vy[0], ..., X[N], Y[N], Vx[N], Vy[N]]\n",
    "    dηdt = np.zeros(4*N, dtype=float)\n",
    "    for i in range(0, N):\n",
    "        dηdt[4*i+0] = η[4*i+2]\n",
    "        dηdt[4*i+1] = η[4*i+3]\n",
    "        for j in range(0, N):\n",
    "            if i!=j:\n",
    "                rij = np.sqrt(np.power(η[4*j]-η[4*i], 2) + np.power(η[4*j+1]-η[4*i+1], 2))\n",
    "                dηdt[4*i+2] += M[j]*(η[4*j+0]-η[4*i+0])/np.power(rij, 3)\n",
    "                dηdt[4*i+3] += M[j]*(η[4*j+1]-η[4*i+1])/np.power(rij, 3)\n",
    "    return dηdt"
   ]
  },
  {
   "cell_type": "code",
   "execution_count": 19,
   "metadata": {},
   "outputs": [],
   "source": [
    "η0 = [] # Condições iniciais\n",
    "for i in range(0, 4*N):\n",
    "    η0.append(np.random.uniform(-1,1))\n",
    "\n",
    "η0 = [0.19581212969549666,\n",
    " 0.9060405179518993,\n",
    " -0.668783305869568,\n",
    " -0.7511517543429094,\n",
    " 0.29102274604937706,\n",
    " -0.5866390848025405,\n",
    " 0.6721397338997188,\n",
    " -0.5441112804053352,\n",
    " -0.9990384556213929,\n",
    " 0.361711844134762,\n",
    " 0.19374805738963063,\n",
    " 0.6701666541965488]\n",
    "\n",
    "t_init = 0 # Tempo inicial da simulacao em unidades de sei la, bananas\n",
    "t_final = 10 # Tempo final da simulacao em unidades de sei la, bananas\n",
    "t_len = 1000 # Time step de um ponto ao outro\n",
    "#----------\n",
    "\n",
    "t_vec = np.linspace(t_init, t_final, t_len)\n",
    "sol = solve_ivp(newtonian_dynamic_2D, [t_init, t_final], η0, method='RK45', t_eval=t_vec, rtol=1e-8)"
   ]
  },
  {
   "cell_type": "code",
   "execution_count": 20,
   "metadata": {},
   "outputs": [],
   "source": [
    "X, Y = [], []\n",
    "for i in range(0, N):\n",
    "    x, y = interp1d(t_vec, sol.y[4*i+0]), interp1d(t_vec, sol.y[4*i+1])\n",
    "    X.append(x(t_vec))\n",
    "    Y.append(y(t_vec))\n",
    "X_min, X_max = np.min(np.array(X).flatten()), np.max(np.array(X).flatten())\n",
    "Y_min, Y_max = np.min(np.array(Y).flatten()), np.max(np.array(Y).flatten())"
   ]
  },
  {
   "cell_type": "code",
   "execution_count": 21,
   "metadata": {},
   "outputs": [
    {
     "data": {
      "text/plain": [
       "[<matplotlib.lines.Line2D at 0x198274d9550>]"
      ]
     },
     "execution_count": 21,
     "metadata": {},
     "output_type": "execute_result"
    },
    {
     "data": {
      "image/png": "[encoded data removed]",
      "text/plain": [
       "<Figure size 640x480 with 1 Axes>"
      ]
     },
     "metadata": {},
     "output_type": "display_data"
    }
   ],
   "source": [
    "i = 1\n",
    "plt.plot(X[i], Y[i])"
   ]
  },
  {
   "cell_type": "code",
   "execution_count": null,
   "metadata": {},
   "outputs": [],
   "source": [
    "fig = plt.figure()\n",
    "ax = fig.add_subplot(111)\n",
    "ax_lim_tolerance = 0.1\n",
    "X_ax = ax.set_xlim(X_min - ax_lim_tolerance, X_max + ax_lim_tolerance)\n",
    "Y_ax = ax.set_ylim(Y_min - ax_lim_tolerance, Y_max + ax_lim_tolerance)\n",
    "\n",
    "artists = []   \n",
    "for i in range(0, N):\n",
    "    artists.append(ax.plot([], [])[0])\n",
    "\n",
    "def frame_update(i):\n",
    "    if renew_art:\n",
    "        for j in range(0, N):\n",
    "            artists[j].set_data(X[j][i:i+arts], Y[j][i:i+arts])\n",
    "    else:\n",
    "        for j in range(0, N):\n",
    "            artists[j].set_data(X[j][0:i], Y[j][0:i])\n",
    "    return\n",
    "\n",
    "ani = animation.FuncAnimation(fig, frame_update, frames=t_len-arts, interval=10)\n",
    "#writergif = animation.PillowWriter(fps=35) \n",
    "#ani.save(\"caique_N-planets.gif\", writer=writergif)"
   ]
  },
  {
   "cell_type": "code",
   "execution_count": null,
   "metadata": {},
   "outputs": [],
   "source": []
  },
  {
   "cell_type": "code",
   "execution_count": null,
   "metadata": {},
   "outputs": [],
   "source": []
  },
  {
   "cell_type": "code",
   "execution_count": null,
   "metadata": {},
   "outputs": [],
   "source": []
  },
  {
   "cell_type": "code",
   "execution_count": null,
   "metadata": {},
   "outputs": [],
   "source": []
  },
  {
   "cell_type": "code",
   "execution_count": null,
   "metadata": {},
   "outputs": [],
   "source": []
  },
  {
   "cell_type": "code",
   "execution_count": null,
   "metadata": {},
   "outputs": [],
   "source": []
  }
 ],
 "metadata": {
  "@webio": {
   "lastCommId": null,
   "lastKernelId": null
  },
  "kernelspec": {
   "display_name": "Python 3 (ipykernel)",
   "language": "python",
   "name": "python3"
  },
  "language_info": {
   "codemirror_mode": {
    "name": "ipython",
    "version": 3
   },
   "file_extension": ".py",
   "mimetype": "text/x-python",
   "name": "python",
   "nbconvert_exporter": "python",
   "pygments_lexer": "ipython3",
   "version": "3.12.1"
  }
 },
 "nbformat": 4,
 "nbformat_minor": 4
}
