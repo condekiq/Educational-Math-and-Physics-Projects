{
 "cells": [
  {
   "cell_type": "code",
   "execution_count": null,
   "metadata": {
    "tags": []
   },
   "outputs": [],
   "source": [
    "import numpy as np\n",
    "import matplotlib.pyplot as plt"
   ]
  },
  {
   "cell_type": "code",
   "execution_count": null,
   "metadata": {
    "tags": []
   },
   "outputs": [],
   "source": [
    "X = np.linspace(-2.5, 1.5, 1000)\n",
    "Y = np.linspace(-1.5, 1.5, 1000)\n",
    "\n",
    "X_grid, Y_grid = np.meshgrid(X, Y)\n",
    "Z_grid = X_grid + Y_grid*1j\n",
    "\n",
    "def sequence(c_grid_input, num):\n",
    "    c_grid_input_shape = np.shape(c_grid_input)\n",
    "    c_grid_output = 0*c_grid_input\n",
    "    for i in np.arange(c_grid_input_shape[0]):\n",
    "        for j in np.arange(c_grid_input_shape[1]):\n",
    "                z = 0\n",
    "                while (np.abs(z) < 3 and num != 0):\n",
    "                    z = z**2 + c_grid[i][j]\n",
    "                    num = num - 1\n",
    "                c_grid_output[i][j] = z\n",
    "    return c_grid_output"
   ]
  },
  {
   "cell_type": "code",
   "execution_count": null,
   "metadata": {
    "tags": []
   },
   "outputs": [],
   "source": [
    "Z_hit = np.abs(sequence(Z_grid, 5))\n",
    "\n",
    "for j in np.arange(len(X)):\n",
    "    for i in np.arange(len(Y)):\n",
    "        if Z_hit[i][j] > 3:\n",
    "            Z_hit[i][j] = 1\n",
    "        else:\n",
    "            Z_hit[i][j] = -1"
   ]
  },
  {
   "cell_type": "code",
   "execution_count": null,
   "metadata": {
    "tags": []
   },
   "outputs": [],
   "source": [
    "fig, ax = plt.subplots(figsize=(8,6))\n",
    "\n",
    "ax.pcolormesh(X_grid, Y_grid, Z_hit)\n",
    "ax.grid(True)"
   ]
  },
  {
   "cell_type": "code",
   "execution_count": null,
   "metadata": {},
   "outputs": [],
   "source": []
  },
  {
   "cell_type": "code",
   "execution_count": null,
   "metadata": {},
   "outputs": [],
   "source": []
  },
  {
   "cell_type": "code",
   "execution_count": null,
   "metadata": {},
   "outputs": [],
   "source": []
  },
  {
   "cell_type": "code",
   "execution_count": null,
   "metadata": {},
   "outputs": [],
   "source": []
  },
  {
   "cell_type": "code",
   "execution_count": null,
   "metadata": {},
   "outputs": [],
   "source": []
  }
 ],
 "metadata": {
  "@webio": {
   "lastCommId": null,
   "lastKernelId": null
  },
  "kernelspec": {
   "display_name": "Python 3 (ipykernel)",
   "language": "python",
   "name": "python3"
  },
  "language_info": {
   "codemirror_mode": {
    "name": "ipython",
    "version": 3
   },
   "file_extension": ".py",
   "mimetype": "text/x-python",
   "name": "python",
   "nbconvert_exporter": "python",
   "pygments_lexer": "ipython3",
   "version": "3.12.1"
  }
 },
 "nbformat": 4,
 "nbformat_minor": 4
}
